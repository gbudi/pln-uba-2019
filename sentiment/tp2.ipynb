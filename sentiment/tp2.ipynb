{
 "cells": [
  {
   "cell_type": "markdown",
   "metadata": {},
   "source": [
    "# TP2\n",
    "\n",
    "https://www.kaggle.com/c/intropln-analisis-de-sentimiento"
   ]
  },
  {
   "cell_type": "markdown",
   "metadata": {},
   "source": [
    "# Cargar datos"
   ]
  },
  {
   "cell_type": "code",
   "execution_count": 9,
   "metadata": {},
   "outputs": [],
   "source": [
    "from lab2 import *\n",
    "train, dev, X_test = load_datasets_unlabeled_test()"
   ]
  },
  {
   "cell_type": "code",
   "execution_count": 10,
   "metadata": {},
   "outputs": [
    {
     "data": {
      "text/plain": [
       "(963, 107, 500)"
      ]
     },
     "execution_count": 10,
     "metadata": {},
     "output_type": "execute_result"
    }
   ],
   "source": [
    "X_train, y_train = train\n",
    "X_dev, y_dev = dev\n",
    "len(X_train), len(X_dev), len(X_test)"
   ]
  },
  {
   "cell_type": "markdown",
   "metadata": {},
   "source": [
    "# Importar bibliotecas"
   ]
  },
  {
   "cell_type": "code",
   "execution_count": 11,
   "metadata": {},
   "outputs": [],
   "source": [
    "############### Clasificadores ######################\n",
    "from sklearn.neighbors import KNeighborsClassifier\n",
    "from sklearn.naive_bayes import MultinomialNB\n",
    "from sklearn.tree import DecisionTreeClassifier\n",
    "from sklearn.linear_model import LogisticRegression\n",
    "from sklearn.svm import LinearSVC, SVC\n",
    "from sklearn.ensemble import RandomForestClassifier\n",
    "#####################################################\n",
    "from util import print_eval\n",
    "from sklearn.feature_extraction.text import CountVectorizer\n",
    "from sklearn.pipeline import Pipeline\n",
    "from sklearn.feature_extraction.text import TfidfVectorizer\n",
    "######################################################\n",
    "from sklearn import metrics\n",
    "import pandas as pd\n",
    "from sklearn.model_selection import ParameterGrid"
   ]
  },
  {
   "cell_type": "markdown",
   "metadata": {},
   "source": [
    "# Probamos clasificadores"
   ]
  },
  {
   "cell_type": "code",
   "execution_count": 12,
   "metadata": {},
   "outputs": [],
   "source": [
    "clfs = [\n",
    "    KNeighborsClassifier(),\n",
    "    MultinomialNB(),\n",
    "    DecisionTreeClassifier(random_state=0),\n",
    "    LogisticRegression(random_state=0),\n",
    "    LinearSVC(random_state=0),\n",
    "    SVC(random_state=0),\n",
    "    RandomForestClassifier(random_state=0),\n",
    "]\n",
    "\n",
    "binary_opt = [True, False]"
   ]
  },
  {
   "cell_type": "code",
   "execution_count": 13,
   "metadata": {},
   "outputs": [
    {
     "name": "stdout",
     "output_type": "stream",
     "text": [
      "<class 'sklearn.neighbors.classification.KNeighborsClassifier'> binary = True\n",
      "accuracy\t0.69\n",
      "\n",
      "              precision    recall  f1-score   support\n",
      "\n",
      "         neg       0.66      0.80      0.72        54\n",
      "         pos       0.74      0.58      0.65        53\n",
      "\n",
      "    accuracy                           0.69       107\n",
      "   macro avg       0.70      0.69      0.69       107\n",
      "weighted avg       0.70      0.69      0.69       107\n",
      "\n",
      "[[43 11]\n",
      " [22 31]]\n",
      "<class 'sklearn.neighbors.classification.KNeighborsClassifier'> binary = False\n",
      "accuracy\t0.69\n",
      "\n",
      "              precision    recall  f1-score   support\n",
      "\n",
      "         neg       0.66      0.80      0.72        54\n",
      "         pos       0.74      0.58      0.65        53\n",
      "\n",
      "    accuracy                           0.69       107\n",
      "   macro avg       0.70      0.69      0.69       107\n",
      "weighted avg       0.70      0.69      0.69       107\n",
      "\n",
      "[[43 11]\n",
      " [22 31]]\n",
      "<class 'sklearn.naive_bayes.MultinomialNB'> binary = True\n",
      "accuracy\t0.86\n",
      "\n",
      "              precision    recall  f1-score   support\n",
      "\n",
      "         neg       0.82      0.93      0.87        54\n",
      "         pos       0.91      0.79      0.85        53\n",
      "\n",
      "    accuracy                           0.86       107\n",
      "   macro avg       0.87      0.86      0.86       107\n",
      "weighted avg       0.87      0.86      0.86       107\n",
      "\n",
      "[[50  4]\n",
      " [11 42]]\n",
      "<class 'sklearn.naive_bayes.MultinomialNB'> binary = False\n",
      "accuracy\t0.86\n",
      "\n",
      "              precision    recall  f1-score   support\n",
      "\n",
      "         neg       0.82      0.93      0.87        54\n",
      "         pos       0.91      0.79      0.85        53\n",
      "\n",
      "    accuracy                           0.86       107\n",
      "   macro avg       0.87      0.86      0.86       107\n",
      "weighted avg       0.87      0.86      0.86       107\n",
      "\n",
      "[[50  4]\n",
      " [11 42]]\n",
      "<class 'sklearn.tree.tree.DecisionTreeClassifier'> binary = True\n",
      "accuracy\t0.69\n",
      "\n",
      "              precision    recall  f1-score   support\n",
      "\n",
      "         neg       0.69      0.70      0.70        54\n",
      "         pos       0.69      0.68      0.69        53\n",
      "\n",
      "    accuracy                           0.69       107\n",
      "   macro avg       0.69      0.69      0.69       107\n",
      "weighted avg       0.69      0.69      0.69       107\n",
      "\n",
      "[[38 16]\n",
      " [17 36]]\n",
      "<class 'sklearn.tree.tree.DecisionTreeClassifier'> binary = False\n",
      "accuracy\t0.69\n",
      "\n",
      "              precision    recall  f1-score   support\n",
      "\n",
      "         neg       0.69      0.70      0.70        54\n",
      "         pos       0.69      0.68      0.69        53\n",
      "\n",
      "    accuracy                           0.69       107\n",
      "   macro avg       0.69      0.69      0.69       107\n",
      "weighted avg       0.69      0.69      0.69       107\n",
      "\n",
      "[[38 16]\n",
      " [17 36]]\n",
      "<class 'sklearn.linear_model.logistic.LogisticRegression'> binary = True\n"
     ]
    },
    {
     "name": "stderr",
     "output_type": "stream",
     "text": [
      "/home/gabriel/.virtualenvs/pln/lib/python3.6/site-packages/sklearn/linear_model/logistic.py:432: FutureWarning: Default solver will be changed to 'lbfgs' in 0.22. Specify a solver to silence this warning.\n",
      "  FutureWarning)\n"
     ]
    },
    {
     "name": "stdout",
     "output_type": "stream",
     "text": [
      "accuracy\t0.85\n",
      "\n",
      "              precision    recall  f1-score   support\n",
      "\n",
      "         neg       0.82      0.91      0.86        54\n",
      "         pos       0.89      0.79      0.84        53\n",
      "\n",
      "    accuracy                           0.85       107\n",
      "   macro avg       0.86      0.85      0.85       107\n",
      "weighted avg       0.85      0.85      0.85       107\n",
      "\n",
      "[[49  5]\n",
      " [11 42]]\n",
      "<class 'sklearn.linear_model.logistic.LogisticRegression'> binary = False\n"
     ]
    },
    {
     "name": "stderr",
     "output_type": "stream",
     "text": [
      "/home/gabriel/.virtualenvs/pln/lib/python3.6/site-packages/sklearn/linear_model/logistic.py:432: FutureWarning: Default solver will be changed to 'lbfgs' in 0.22. Specify a solver to silence this warning.\n",
      "  FutureWarning)\n"
     ]
    },
    {
     "name": "stdout",
     "output_type": "stream",
     "text": [
      "accuracy\t0.85\n",
      "\n",
      "              precision    recall  f1-score   support\n",
      "\n",
      "         neg       0.82      0.91      0.86        54\n",
      "         pos       0.89      0.79      0.84        53\n",
      "\n",
      "    accuracy                           0.85       107\n",
      "   macro avg       0.86      0.85      0.85       107\n",
      "weighted avg       0.85      0.85      0.85       107\n",
      "\n",
      "[[49  5]\n",
      " [11 42]]\n",
      "<class 'sklearn.svm.classes.LinearSVC'> binary = True\n"
     ]
    },
    {
     "name": "stderr",
     "output_type": "stream",
     "text": [
      "/home/gabriel/.virtualenvs/pln/lib/python3.6/site-packages/sklearn/svm/base.py:929: ConvergenceWarning: Liblinear failed to converge, increase the number of iterations.\n",
      "  \"the number of iterations.\", ConvergenceWarning)\n"
     ]
    },
    {
     "name": "stdout",
     "output_type": "stream",
     "text": [
      "accuracy\t0.79\n",
      "\n",
      "              precision    recall  f1-score   support\n",
      "\n",
      "         neg       0.76      0.87      0.81        54\n",
      "         pos       0.84      0.72      0.78        53\n",
      "\n",
      "    accuracy                           0.79       107\n",
      "   macro avg       0.80      0.79      0.79       107\n",
      "weighted avg       0.80      0.79      0.79       107\n",
      "\n",
      "[[47  7]\n",
      " [15 38]]\n",
      "<class 'sklearn.svm.classes.LinearSVC'> binary = False\n"
     ]
    },
    {
     "name": "stderr",
     "output_type": "stream",
     "text": [
      "/home/gabriel/.virtualenvs/pln/lib/python3.6/site-packages/sklearn/svm/base.py:929: ConvergenceWarning: Liblinear failed to converge, increase the number of iterations.\n",
      "  \"the number of iterations.\", ConvergenceWarning)\n",
      "/home/gabriel/.virtualenvs/pln/lib/python3.6/site-packages/sklearn/svm/base.py:193: FutureWarning: The default value of gamma will change from 'auto' to 'scale' in version 0.22 to account better for unscaled features. Set gamma explicitly to 'auto' or 'scale' to avoid this warning.\n",
      "  \"avoid this warning.\", FutureWarning)\n"
     ]
    },
    {
     "name": "stdout",
     "output_type": "stream",
     "text": [
      "accuracy\t0.79\n",
      "\n",
      "              precision    recall  f1-score   support\n",
      "\n",
      "         neg       0.76      0.87      0.81        54\n",
      "         pos       0.84      0.72      0.78        53\n",
      "\n",
      "    accuracy                           0.79       107\n",
      "   macro avg       0.80      0.79      0.79       107\n",
      "weighted avg       0.80      0.79      0.79       107\n",
      "\n",
      "[[47  7]\n",
      " [15 38]]\n",
      "<class 'sklearn.svm.classes.SVC'> binary = True\n",
      "accuracy\t0.60\n",
      "\n",
      "              precision    recall  f1-score   support\n",
      "\n",
      "         neg       0.57      0.85      0.68        54\n",
      "         pos       0.69      0.34      0.46        53\n",
      "\n",
      "    accuracy                           0.60       107\n",
      "   macro avg       0.63      0.60      0.57       107\n",
      "weighted avg       0.63      0.60      0.57       107\n",
      "\n",
      "[[46  8]\n",
      " [35 18]]\n",
      "<class 'sklearn.svm.classes.SVC'> binary = False\n"
     ]
    },
    {
     "name": "stderr",
     "output_type": "stream",
     "text": [
      "/home/gabriel/.virtualenvs/pln/lib/python3.6/site-packages/sklearn/svm/base.py:193: FutureWarning: The default value of gamma will change from 'auto' to 'scale' in version 0.22 to account better for unscaled features. Set gamma explicitly to 'auto' or 'scale' to avoid this warning.\n",
      "  \"avoid this warning.\", FutureWarning)\n"
     ]
    },
    {
     "name": "stdout",
     "output_type": "stream",
     "text": [
      "accuracy\t0.60\n",
      "\n",
      "              precision    recall  f1-score   support\n",
      "\n",
      "         neg       0.57      0.85      0.68        54\n",
      "         pos       0.69      0.34      0.46        53\n",
      "\n",
      "    accuracy                           0.60       107\n",
      "   macro avg       0.63      0.60      0.57       107\n",
      "weighted avg       0.63      0.60      0.57       107\n",
      "\n",
      "[[46  8]\n",
      " [35 18]]\n",
      "<class 'sklearn.ensemble.forest.RandomForestClassifier'> binary = True\n"
     ]
    },
    {
     "name": "stderr",
     "output_type": "stream",
     "text": [
      "/home/gabriel/.virtualenvs/pln/lib/python3.6/site-packages/sklearn/ensemble/forest.py:245: FutureWarning: The default value of n_estimators will change from 10 in version 0.20 to 100 in 0.22.\n",
      "  \"10 in version 0.20 to 100 in 0.22.\", FutureWarning)\n"
     ]
    },
    {
     "name": "stdout",
     "output_type": "stream",
     "text": [
      "accuracy\t0.69\n",
      "\n",
      "              precision    recall  f1-score   support\n",
      "\n",
      "         neg       0.67      0.78      0.72        54\n",
      "         pos       0.73      0.60      0.66        53\n",
      "\n",
      "    accuracy                           0.69       107\n",
      "   macro avg       0.70      0.69      0.69       107\n",
      "weighted avg       0.70      0.69      0.69       107\n",
      "\n",
      "[[42 12]\n",
      " [21 32]]\n",
      "<class 'sklearn.ensemble.forest.RandomForestClassifier'> binary = False\n",
      "accuracy\t0.69\n",
      "\n",
      "              precision    recall  f1-score   support\n",
      "\n",
      "         neg       0.67      0.78      0.72        54\n",
      "         pos       0.73      0.60      0.66        53\n",
      "\n",
      "    accuracy                           0.69       107\n",
      "   macro avg       0.70      0.69      0.69       107\n",
      "weighted avg       0.70      0.69      0.69       107\n",
      "\n",
      "[[42 12]\n",
      " [21 32]]\n"
     ]
    }
   ],
   "source": [
    "vect = CountVectorizer(binary=False)\n",
    "\n",
    "for clf in clfs:\n",
    "    for b in binary_opt:\n",
    "        print(str(clf.__class__) + ' ' + 'binary = ' + str(b))\n",
    "        pipeline = Pipeline([('vect', vect), ('clf', clf),])\n",
    "        pipeline.fit(X_train, y_train)\n",
    "        #print_eval(pipeline, X_train, y_train)\n",
    "        print_eval(pipeline, X_dev, y_dev)"
   ]
  },
  {
   "cell_type": "markdown",
   "metadata": {},
   "source": [
    "**Hasta acá la mejor combinación es LR con binary=true (otras de igual accuracy no rindieron mejor en Kaggle)**"
   ]
  },
  {
   "cell_type": "markdown",
   "metadata": {},
   "source": [
    "# Busco combinaciones de parámetros para el vectorizador"
   ]
  },
  {
   "cell_type": "code",
   "execution_count": 14,
   "metadata": {},
   "outputs": [],
   "source": [
    "param_grid = {\n",
    "    'vect__binary': [True],\n",
    "    'vect__ngram_range': [(1, 1), (1, 2), (1, 3), (1, 4), (1, 5)],\n",
    "    'vect__min_df': [1, 3, 5, 7],\n",
    "    'vect__max_df': [0.95, 0.9, 0.7],\n",
    "    'clf__random_state': [0],\n",
    "}\n",
    "\n",
    "params_list = list(ParameterGrid(param_grid))"
   ]
  },
  {
   "cell_type": "code",
   "execution_count": 15,
   "metadata": {},
   "outputs": [
    {
     "name": "stderr",
     "output_type": "stream",
     "text": [
      "/home/gabriel/.virtualenvs/pln/lib/python3.6/site-packages/sklearn/linear_model/logistic.py:432: FutureWarning: Default solver will be changed to 'lbfgs' in 0.22. Specify a solver to silence this warning.\n",
      "  FutureWarning)\n",
      "/home/gabriel/.virtualenvs/pln/lib/python3.6/site-packages/sklearn/linear_model/logistic.py:432: FutureWarning: Default solver will be changed to 'lbfgs' in 0.22. Specify a solver to silence this warning.\n",
      "  FutureWarning)\n",
      "/home/gabriel/.virtualenvs/pln/lib/python3.6/site-packages/sklearn/linear_model/logistic.py:432: FutureWarning: Default solver will be changed to 'lbfgs' in 0.22. Specify a solver to silence this warning.\n",
      "  FutureWarning)\n",
      "/home/gabriel/.virtualenvs/pln/lib/python3.6/site-packages/sklearn/linear_model/logistic.py:432: FutureWarning: Default solver will be changed to 'lbfgs' in 0.22. Specify a solver to silence this warning.\n",
      "  FutureWarning)\n",
      "/home/gabriel/.virtualenvs/pln/lib/python3.6/site-packages/sklearn/linear_model/logistic.py:432: FutureWarning: Default solver will be changed to 'lbfgs' in 0.22. Specify a solver to silence this warning.\n",
      "  FutureWarning)\n",
      "/home/gabriel/.virtualenvs/pln/lib/python3.6/site-packages/sklearn/linear_model/logistic.py:432: FutureWarning: Default solver will be changed to 'lbfgs' in 0.22. Specify a solver to silence this warning.\n",
      "  FutureWarning)\n",
      "/home/gabriel/.virtualenvs/pln/lib/python3.6/site-packages/sklearn/linear_model/logistic.py:432: FutureWarning: Default solver will be changed to 'lbfgs' in 0.22. Specify a solver to silence this warning.\n",
      "  FutureWarning)\n",
      "/home/gabriel/.virtualenvs/pln/lib/python3.6/site-packages/sklearn/linear_model/logistic.py:432: FutureWarning: Default solver will be changed to 'lbfgs' in 0.22. Specify a solver to silence this warning.\n",
      "  FutureWarning)\n",
      "/home/gabriel/.virtualenvs/pln/lib/python3.6/site-packages/sklearn/linear_model/logistic.py:432: FutureWarning: Default solver will be changed to 'lbfgs' in 0.22. Specify a solver to silence this warning.\n",
      "  FutureWarning)\n",
      "/home/gabriel/.virtualenvs/pln/lib/python3.6/site-packages/sklearn/linear_model/logistic.py:432: FutureWarning: Default solver will be changed to 'lbfgs' in 0.22. Specify a solver to silence this warning.\n",
      "  FutureWarning)\n",
      "/home/gabriel/.virtualenvs/pln/lib/python3.6/site-packages/sklearn/linear_model/logistic.py:432: FutureWarning: Default solver will be changed to 'lbfgs' in 0.22. Specify a solver to silence this warning.\n",
      "  FutureWarning)\n",
      "/home/gabriel/.virtualenvs/pln/lib/python3.6/site-packages/sklearn/linear_model/logistic.py:432: FutureWarning: Default solver will be changed to 'lbfgs' in 0.22. Specify a solver to silence this warning.\n",
      "  FutureWarning)\n",
      "/home/gabriel/.virtualenvs/pln/lib/python3.6/site-packages/sklearn/linear_model/logistic.py:432: FutureWarning: Default solver will be changed to 'lbfgs' in 0.22. Specify a solver to silence this warning.\n",
      "  FutureWarning)\n",
      "/home/gabriel/.virtualenvs/pln/lib/python3.6/site-packages/sklearn/linear_model/logistic.py:432: FutureWarning: Default solver will be changed to 'lbfgs' in 0.22. Specify a solver to silence this warning.\n",
      "  FutureWarning)\n",
      "/home/gabriel/.virtualenvs/pln/lib/python3.6/site-packages/sklearn/linear_model/logistic.py:432: FutureWarning: Default solver will be changed to 'lbfgs' in 0.22. Specify a solver to silence this warning.\n",
      "  FutureWarning)\n",
      "/home/gabriel/.virtualenvs/pln/lib/python3.6/site-packages/sklearn/linear_model/logistic.py:432: FutureWarning: Default solver will be changed to 'lbfgs' in 0.22. Specify a solver to silence this warning.\n",
      "  FutureWarning)\n",
      "/home/gabriel/.virtualenvs/pln/lib/python3.6/site-packages/sklearn/linear_model/logistic.py:432: FutureWarning: Default solver will be changed to 'lbfgs' in 0.22. Specify a solver to silence this warning.\n",
      "  FutureWarning)\n",
      "/home/gabriel/.virtualenvs/pln/lib/python3.6/site-packages/sklearn/linear_model/logistic.py:432: FutureWarning: Default solver will be changed to 'lbfgs' in 0.22. Specify a solver to silence this warning.\n",
      "  FutureWarning)\n",
      "/home/gabriel/.virtualenvs/pln/lib/python3.6/site-packages/sklearn/linear_model/logistic.py:432: FutureWarning: Default solver will be changed to 'lbfgs' in 0.22. Specify a solver to silence this warning.\n",
      "  FutureWarning)\n",
      "/home/gabriel/.virtualenvs/pln/lib/python3.6/site-packages/sklearn/linear_model/logistic.py:432: FutureWarning: Default solver will be changed to 'lbfgs' in 0.22. Specify a solver to silence this warning.\n",
      "  FutureWarning)\n",
      "/home/gabriel/.virtualenvs/pln/lib/python3.6/site-packages/sklearn/linear_model/logistic.py:432: FutureWarning: Default solver will be changed to 'lbfgs' in 0.22. Specify a solver to silence this warning.\n",
      "  FutureWarning)\n",
      "/home/gabriel/.virtualenvs/pln/lib/python3.6/site-packages/sklearn/linear_model/logistic.py:432: FutureWarning: Default solver will be changed to 'lbfgs' in 0.22. Specify a solver to silence this warning.\n",
      "  FutureWarning)\n",
      "/home/gabriel/.virtualenvs/pln/lib/python3.6/site-packages/sklearn/linear_model/logistic.py:432: FutureWarning: Default solver will be changed to 'lbfgs' in 0.22. Specify a solver to silence this warning.\n",
      "  FutureWarning)\n",
      "/home/gabriel/.virtualenvs/pln/lib/python3.6/site-packages/sklearn/linear_model/logistic.py:432: FutureWarning: Default solver will be changed to 'lbfgs' in 0.22. Specify a solver to silence this warning.\n",
      "  FutureWarning)\n",
      "/home/gabriel/.virtualenvs/pln/lib/python3.6/site-packages/sklearn/linear_model/logistic.py:432: FutureWarning: Default solver will be changed to 'lbfgs' in 0.22. Specify a solver to silence this warning.\n",
      "  FutureWarning)\n",
      "/home/gabriel/.virtualenvs/pln/lib/python3.6/site-packages/sklearn/linear_model/logistic.py:432: FutureWarning: Default solver will be changed to 'lbfgs' in 0.22. Specify a solver to silence this warning.\n",
      "  FutureWarning)\n",
      "/home/gabriel/.virtualenvs/pln/lib/python3.6/site-packages/sklearn/linear_model/logistic.py:432: FutureWarning: Default solver will be changed to 'lbfgs' in 0.22. Specify a solver to silence this warning.\n",
      "  FutureWarning)\n",
      "/home/gabriel/.virtualenvs/pln/lib/python3.6/site-packages/sklearn/linear_model/logistic.py:432: FutureWarning: Default solver will be changed to 'lbfgs' in 0.22. Specify a solver to silence this warning.\n",
      "  FutureWarning)\n",
      "/home/gabriel/.virtualenvs/pln/lib/python3.6/site-packages/sklearn/linear_model/logistic.py:432: FutureWarning: Default solver will be changed to 'lbfgs' in 0.22. Specify a solver to silence this warning.\n",
      "  FutureWarning)\n",
      "/home/gabriel/.virtualenvs/pln/lib/python3.6/site-packages/sklearn/linear_model/logistic.py:432: FutureWarning: Default solver will be changed to 'lbfgs' in 0.22. Specify a solver to silence this warning.\n",
      "  FutureWarning)\n",
      "/home/gabriel/.virtualenvs/pln/lib/python3.6/site-packages/sklearn/linear_model/logistic.py:432: FutureWarning: Default solver will be changed to 'lbfgs' in 0.22. Specify a solver to silence this warning.\n",
      "  FutureWarning)\n",
      "/home/gabriel/.virtualenvs/pln/lib/python3.6/site-packages/sklearn/linear_model/logistic.py:432: FutureWarning: Default solver will be changed to 'lbfgs' in 0.22. Specify a solver to silence this warning.\n",
      "  FutureWarning)\n",
      "/home/gabriel/.virtualenvs/pln/lib/python3.6/site-packages/sklearn/linear_model/logistic.py:432: FutureWarning: Default solver will be changed to 'lbfgs' in 0.22. Specify a solver to silence this warning.\n",
      "  FutureWarning)\n",
      "/home/gabriel/.virtualenvs/pln/lib/python3.6/site-packages/sklearn/linear_model/logistic.py:432: FutureWarning: Default solver will be changed to 'lbfgs' in 0.22. Specify a solver to silence this warning.\n",
      "  FutureWarning)\n",
      "/home/gabriel/.virtualenvs/pln/lib/python3.6/site-packages/sklearn/linear_model/logistic.py:432: FutureWarning: Default solver will be changed to 'lbfgs' in 0.22. Specify a solver to silence this warning.\n",
      "  FutureWarning)\n",
      "/home/gabriel/.virtualenvs/pln/lib/python3.6/site-packages/sklearn/linear_model/logistic.py:432: FutureWarning: Default solver will be changed to 'lbfgs' in 0.22. Specify a solver to silence this warning.\n",
      "  FutureWarning)\n",
      "/home/gabriel/.virtualenvs/pln/lib/python3.6/site-packages/sklearn/linear_model/logistic.py:432: FutureWarning: Default solver will be changed to 'lbfgs' in 0.22. Specify a solver to silence this warning.\n",
      "  FutureWarning)\n"
     ]
    },
    {
     "name": "stderr",
     "output_type": "stream",
     "text": [
      "/home/gabriel/.virtualenvs/pln/lib/python3.6/site-packages/sklearn/linear_model/logistic.py:432: FutureWarning: Default solver will be changed to 'lbfgs' in 0.22. Specify a solver to silence this warning.\n",
      "  FutureWarning)\n",
      "/home/gabriel/.virtualenvs/pln/lib/python3.6/site-packages/sklearn/linear_model/logistic.py:432: FutureWarning: Default solver will be changed to 'lbfgs' in 0.22. Specify a solver to silence this warning.\n",
      "  FutureWarning)\n",
      "/home/gabriel/.virtualenvs/pln/lib/python3.6/site-packages/sklearn/linear_model/logistic.py:432: FutureWarning: Default solver will be changed to 'lbfgs' in 0.22. Specify a solver to silence this warning.\n",
      "  FutureWarning)\n",
      "/home/gabriel/.virtualenvs/pln/lib/python3.6/site-packages/sklearn/linear_model/logistic.py:432: FutureWarning: Default solver will be changed to 'lbfgs' in 0.22. Specify a solver to silence this warning.\n",
      "  FutureWarning)\n",
      "/home/gabriel/.virtualenvs/pln/lib/python3.6/site-packages/sklearn/linear_model/logistic.py:432: FutureWarning: Default solver will be changed to 'lbfgs' in 0.22. Specify a solver to silence this warning.\n",
      "  FutureWarning)\n",
      "/home/gabriel/.virtualenvs/pln/lib/python3.6/site-packages/sklearn/linear_model/logistic.py:432: FutureWarning: Default solver will be changed to 'lbfgs' in 0.22. Specify a solver to silence this warning.\n",
      "  FutureWarning)\n",
      "/home/gabriel/.virtualenvs/pln/lib/python3.6/site-packages/sklearn/linear_model/logistic.py:432: FutureWarning: Default solver will be changed to 'lbfgs' in 0.22. Specify a solver to silence this warning.\n",
      "  FutureWarning)\n",
      "/home/gabriel/.virtualenvs/pln/lib/python3.6/site-packages/sklearn/linear_model/logistic.py:432: FutureWarning: Default solver will be changed to 'lbfgs' in 0.22. Specify a solver to silence this warning.\n",
      "  FutureWarning)\n",
      "/home/gabriel/.virtualenvs/pln/lib/python3.6/site-packages/sklearn/linear_model/logistic.py:432: FutureWarning: Default solver will be changed to 'lbfgs' in 0.22. Specify a solver to silence this warning.\n",
      "  FutureWarning)\n",
      "/home/gabriel/.virtualenvs/pln/lib/python3.6/site-packages/sklearn/linear_model/logistic.py:432: FutureWarning: Default solver will be changed to 'lbfgs' in 0.22. Specify a solver to silence this warning.\n",
      "  FutureWarning)\n",
      "/home/gabriel/.virtualenvs/pln/lib/python3.6/site-packages/sklearn/linear_model/logistic.py:432: FutureWarning: Default solver will be changed to 'lbfgs' in 0.22. Specify a solver to silence this warning.\n",
      "  FutureWarning)\n",
      "/home/gabriel/.virtualenvs/pln/lib/python3.6/site-packages/sklearn/linear_model/logistic.py:432: FutureWarning: Default solver will be changed to 'lbfgs' in 0.22. Specify a solver to silence this warning.\n",
      "  FutureWarning)\n",
      "/home/gabriel/.virtualenvs/pln/lib/python3.6/site-packages/sklearn/linear_model/logistic.py:432: FutureWarning: Default solver will be changed to 'lbfgs' in 0.22. Specify a solver to silence this warning.\n",
      "  FutureWarning)\n",
      "/home/gabriel/.virtualenvs/pln/lib/python3.6/site-packages/sklearn/linear_model/logistic.py:432: FutureWarning: Default solver will be changed to 'lbfgs' in 0.22. Specify a solver to silence this warning.\n",
      "  FutureWarning)\n",
      "/home/gabriel/.virtualenvs/pln/lib/python3.6/site-packages/sklearn/linear_model/logistic.py:432: FutureWarning: Default solver will be changed to 'lbfgs' in 0.22. Specify a solver to silence this warning.\n",
      "  FutureWarning)\n",
      "/home/gabriel/.virtualenvs/pln/lib/python3.6/site-packages/sklearn/linear_model/logistic.py:432: FutureWarning: Default solver will be changed to 'lbfgs' in 0.22. Specify a solver to silence this warning.\n",
      "  FutureWarning)\n",
      "/home/gabriel/.virtualenvs/pln/lib/python3.6/site-packages/sklearn/linear_model/logistic.py:432: FutureWarning: Default solver will be changed to 'lbfgs' in 0.22. Specify a solver to silence this warning.\n",
      "  FutureWarning)\n",
      "/home/gabriel/.virtualenvs/pln/lib/python3.6/site-packages/sklearn/linear_model/logistic.py:432: FutureWarning: Default solver will be changed to 'lbfgs' in 0.22. Specify a solver to silence this warning.\n",
      "  FutureWarning)\n",
      "/home/gabriel/.virtualenvs/pln/lib/python3.6/site-packages/sklearn/linear_model/logistic.py:432: FutureWarning: Default solver will be changed to 'lbfgs' in 0.22. Specify a solver to silence this warning.\n",
      "  FutureWarning)\n",
      "/home/gabriel/.virtualenvs/pln/lib/python3.6/site-packages/sklearn/linear_model/logistic.py:432: FutureWarning: Default solver will be changed to 'lbfgs' in 0.22. Specify a solver to silence this warning.\n",
      "  FutureWarning)\n",
      "/home/gabriel/.virtualenvs/pln/lib/python3.6/site-packages/sklearn/linear_model/logistic.py:432: FutureWarning: Default solver will be changed to 'lbfgs' in 0.22. Specify a solver to silence this warning.\n",
      "  FutureWarning)\n",
      "/home/gabriel/.virtualenvs/pln/lib/python3.6/site-packages/sklearn/linear_model/logistic.py:432: FutureWarning: Default solver will be changed to 'lbfgs' in 0.22. Specify a solver to silence this warning.\n",
      "  FutureWarning)\n",
      "/home/gabriel/.virtualenvs/pln/lib/python3.6/site-packages/sklearn/linear_model/logistic.py:432: FutureWarning: Default solver will be changed to 'lbfgs' in 0.22. Specify a solver to silence this warning.\n",
      "  FutureWarning)\n"
     ]
    }
   ],
   "source": [
    "from util import eval\n",
    "\n",
    "pipeline = Pipeline([\n",
    "    ('vect', CountVectorizer()),\n",
    "    ('clf', LogisticRegression()),\n",
    "])\n",
    "\n",
    "results = []\n",
    "for params in params_list:\n",
    "    # TODO: add progress bar!\n",
    "    pipeline.set_params(**params)\n",
    "    pipeline.fit(X_train, y_train)\n",
    "    result = eval(pipeline, X_dev, y_dev)\n",
    "    \n",
    "    results.append({\n",
    "        **result,\n",
    "        **params,\n",
    "    })"
   ]
  },
  {
   "cell_type": "code",
   "execution_count": 16,
   "metadata": {},
   "outputs": [
    {
     "data": {
      "text/html": [
       "<div>\n",
       "<style scoped>\n",
       "    .dataframe tbody tr th:only-of-type {\n",
       "        vertical-align: middle;\n",
       "    }\n",
       "\n",
       "    .dataframe tbody tr th {\n",
       "        vertical-align: top;\n",
       "    }\n",
       "\n",
       "    .dataframe thead th {\n",
       "        text-align: right;\n",
       "    }\n",
       "</style>\n",
       "<table border=\"1\" class=\"dataframe\">\n",
       "  <thead>\n",
       "    <tr style=\"text-align: right;\">\n",
       "      <th></th>\n",
       "      <th>acc</th>\n",
       "      <th>f1</th>\n",
       "      <th>clf__random_state</th>\n",
       "      <th>vect__binary</th>\n",
       "      <th>vect__max_df</th>\n",
       "      <th>vect__min_df</th>\n",
       "      <th>vect__ngram_range</th>\n",
       "    </tr>\n",
       "  </thead>\n",
       "  <tbody>\n",
       "    <tr>\n",
       "      <td>12</td>\n",
       "      <td>0.906542</td>\n",
       "      <td>0.906338</td>\n",
       "      <td>0</td>\n",
       "      <td>True</td>\n",
       "      <td>0.95</td>\n",
       "      <td>5</td>\n",
       "      <td>(1, 3)</td>\n",
       "    </tr>\n",
       "    <tr>\n",
       "      <td>13</td>\n",
       "      <td>0.906542</td>\n",
       "      <td>0.906338</td>\n",
       "      <td>0</td>\n",
       "      <td>True</td>\n",
       "      <td>0.95</td>\n",
       "      <td>5</td>\n",
       "      <td>(1, 4)</td>\n",
       "    </tr>\n",
       "    <tr>\n",
       "      <td>14</td>\n",
       "      <td>0.906542</td>\n",
       "      <td>0.906338</td>\n",
       "      <td>0</td>\n",
       "      <td>True</td>\n",
       "      <td>0.95</td>\n",
       "      <td>5</td>\n",
       "      <td>(1, 5)</td>\n",
       "    </tr>\n",
       "    <tr>\n",
       "      <td>33</td>\n",
       "      <td>0.897196</td>\n",
       "      <td>0.897052</td>\n",
       "      <td>0</td>\n",
       "      <td>True</td>\n",
       "      <td>0.90</td>\n",
       "      <td>5</td>\n",
       "      <td>(1, 4)</td>\n",
       "    </tr>\n",
       "    <tr>\n",
       "      <td>34</td>\n",
       "      <td>0.897196</td>\n",
       "      <td>0.897052</td>\n",
       "      <td>0</td>\n",
       "      <td>True</td>\n",
       "      <td>0.90</td>\n",
       "      <td>5</td>\n",
       "      <td>(1, 5)</td>\n",
       "    </tr>\n",
       "    <tr>\n",
       "      <td>36</td>\n",
       "      <td>0.897196</td>\n",
       "      <td>0.897052</td>\n",
       "      <td>0</td>\n",
       "      <td>True</td>\n",
       "      <td>0.90</td>\n",
       "      <td>7</td>\n",
       "      <td>(1, 2)</td>\n",
       "    </tr>\n",
       "    <tr>\n",
       "      <td>37</td>\n",
       "      <td>0.897196</td>\n",
       "      <td>0.897052</td>\n",
       "      <td>0</td>\n",
       "      <td>True</td>\n",
       "      <td>0.90</td>\n",
       "      <td>7</td>\n",
       "      <td>(1, 3)</td>\n",
       "    </tr>\n",
       "    <tr>\n",
       "      <td>38</td>\n",
       "      <td>0.897196</td>\n",
       "      <td>0.897052</td>\n",
       "      <td>0</td>\n",
       "      <td>True</td>\n",
       "      <td>0.90</td>\n",
       "      <td>7</td>\n",
       "      <td>(1, 4)</td>\n",
       "    </tr>\n",
       "    <tr>\n",
       "      <td>39</td>\n",
       "      <td>0.897196</td>\n",
       "      <td>0.897052</td>\n",
       "      <td>0</td>\n",
       "      <td>True</td>\n",
       "      <td>0.90</td>\n",
       "      <td>7</td>\n",
       "      <td>(1, 5)</td>\n",
       "    </tr>\n",
       "    <tr>\n",
       "      <td>17</td>\n",
       "      <td>0.887850</td>\n",
       "      <td>0.887762</td>\n",
       "      <td>0</td>\n",
       "      <td>True</td>\n",
       "      <td>0.95</td>\n",
       "      <td>7</td>\n",
       "      <td>(1, 3)</td>\n",
       "    </tr>\n",
       "  </tbody>\n",
       "</table>\n",
       "</div>"
      ],
      "text/plain": [
       "         acc        f1  clf__random_state  vect__binary  vect__max_df  \\\n",
       "12  0.906542  0.906338                  0          True          0.95   \n",
       "13  0.906542  0.906338                  0          True          0.95   \n",
       "14  0.906542  0.906338                  0          True          0.95   \n",
       "33  0.897196  0.897052                  0          True          0.90   \n",
       "34  0.897196  0.897052                  0          True          0.90   \n",
       "36  0.897196  0.897052                  0          True          0.90   \n",
       "37  0.897196  0.897052                  0          True          0.90   \n",
       "38  0.897196  0.897052                  0          True          0.90   \n",
       "39  0.897196  0.897052                  0          True          0.90   \n",
       "17  0.887850  0.887762                  0          True          0.95   \n",
       "\n",
       "    vect__min_df vect__ngram_range  \n",
       "12             5            (1, 3)  \n",
       "13             5            (1, 4)  \n",
       "14             5            (1, 5)  \n",
       "33             5            (1, 4)  \n",
       "34             5            (1, 5)  \n",
       "36             7            (1, 2)  \n",
       "37             7            (1, 3)  \n",
       "38             7            (1, 4)  \n",
       "39             7            (1, 5)  \n",
       "17             7            (1, 3)  "
      ]
     },
     "execution_count": 16,
     "metadata": {},
     "output_type": "execute_result"
    }
   ],
   "source": [
    "results_df = pd.DataFrame(results)\n",
    "results_df.sort_values(['acc', 'f1'], ascending=False)[:10]"
   ]
  },
  {
   "cell_type": "markdown",
   "metadata": {},
   "source": [
    "Se tienen 3 mejores modelos:\n",
    "\n",
    "- ngram_range=(1, 3), min_df=5, max_df=0.95\n",
    "- ngram_range=(1, 4), min_df=5, max_df=0.95\n",
    "- ngram_range=(1, 5), min_df=5, max_df=0.95\n"
   ]
  },
  {
   "cell_type": "markdown",
   "metadata": {},
   "source": [
    "**Ninguna de esas combinaciones superó en Kaggle a la anterior** "
   ]
  },
  {
   "cell_type": "markdown",
   "metadata": {},
   "source": [
    "# Entrenar y guardar el 1er modelo"
   ]
  },
  {
   "cell_type": "code",
   "execution_count": 17,
   "metadata": {},
   "outputs": [],
   "source": [
    "model = Pipeline([\n",
    "    ('vect', CountVectorizer(binary=True)),\n",
    "    ('clf', LogisticRegression(random_state=0)),\n",
    "])"
   ]
  },
  {
   "cell_type": "code",
   "execution_count": 18,
   "metadata": {},
   "outputs": [
    {
     "name": "stderr",
     "output_type": "stream",
     "text": [
      "/home/gabriel/.virtualenvs/pln/lib/python3.6/site-packages/sklearn/linear_model/logistic.py:432: FutureWarning: Default solver will be changed to 'lbfgs' in 0.22. Specify a solver to silence this warning.\n",
      "  FutureWarning)\n"
     ]
    }
   ],
   "source": [
    "model.fit(X_train, y_train);"
   ]
  },
  {
   "cell_type": "code",
   "execution_count": 19,
   "metadata": {},
   "outputs": [],
   "source": [
    "y_pred = model.predict(X_test)"
   ]
  },
  {
   "cell_type": "code",
   "execution_count": 20,
   "metadata": {},
   "outputs": [],
   "source": [
    "save_results('binary_lr.csv', y_pred)"
   ]
  },
  {
   "cell_type": "markdown",
   "metadata": {},
   "source": [
    "# Entrenar y guardar el 1er modelo con parámetros encontrados"
   ]
  },
  {
   "cell_type": "code",
   "execution_count": 21,
   "metadata": {},
   "outputs": [],
   "source": [
    "model = Pipeline([\n",
    "    ('vect', CountVectorizer(binary=True, ngram_range=(1, 3), min_df=5, max_df=0.95)),\n",
    "    ('clf', LogisticRegression(random_state=0)),\n",
    "])\n",
    "r = '3'"
   ]
  },
  {
   "cell_type": "code",
   "execution_count": 23,
   "metadata": {},
   "outputs": [],
   "source": [
    "model = Pipeline([\n",
    "    ('vect', CountVectorizer(binary=True, ngram_range=(1, 4), min_df=5, max_df=0.95)),\n",
    "    ('clf', LogisticRegression(random_state=0)),\n",
    "])\n",
    "r = '4'"
   ]
  },
  {
   "cell_type": "code",
   "execution_count": 25,
   "metadata": {},
   "outputs": [],
   "source": [
    "model = Pipeline([\n",
    "    ('vect', CountVectorizer(binary=True, ngram_range=(1, 5), min_df=5, max_df=0.95)),\n",
    "    ('clf', LogisticRegression(random_state=0)),\n",
    "])\n",
    "r = '5'"
   ]
  },
  {
   "cell_type": "code",
   "execution_count": 26,
   "metadata": {},
   "outputs": [
    {
     "name": "stderr",
     "output_type": "stream",
     "text": [
      "/home/gabriel/.virtualenvs/pln/lib/python3.6/site-packages/sklearn/linear_model/logistic.py:432: FutureWarning: Default solver will be changed to 'lbfgs' in 0.22. Specify a solver to silence this warning.\n",
      "  FutureWarning)\n"
     ]
    }
   ],
   "source": [
    "model.fit(X_train, y_train);\n",
    "y_pred = model.predict(X_test)\n",
    "save_results('binary_lr_grid'+r+'.csv', y_pred)"
   ]
  }
 ],
 "metadata": {
  "kernelspec": {
   "display_name": "Python 3",
   "language": "python",
   "name": "python3"
  },
  "language_info": {
   "codemirror_mode": {
    "name": "ipython",
    "version": 3
   },
   "file_extension": ".py",
   "mimetype": "text/x-python",
   "name": "python",
   "nbconvert_exporter": "python",
   "pygments_lexer": "ipython3",
   "version": "3.6.8"
  }
 },
 "nbformat": 4,
 "nbformat_minor": 2
}

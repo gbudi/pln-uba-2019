{
 "cells": [
  {
   "cell_type": "markdown",
   "metadata": {},
   "source": [
    "# TP2\n",
    "\n",
    "https://www.kaggle.com/c/intropln-analisis-de-sentimiento"
   ]
  },
  {
   "cell_type": "markdown",
   "metadata": {},
   "source": [
    "# Cargar datos"
   ]
  },
  {
   "cell_type": "code",
   "execution_count": 5,
   "metadata": {},
   "outputs": [],
   "source": [
    "from lab2 import *\n",
    "train, dev, X_test = load_datasets_unlabeled_test()"
   ]
  },
  {
   "cell_type": "code",
   "execution_count": 6,
   "metadata": {},
   "outputs": [
    {
     "data": {
      "text/plain": [
       "(963, 107, 500)"
      ]
     },
     "execution_count": 6,
     "metadata": {},
     "output_type": "execute_result"
    }
   ],
   "source": [
    "X_train, y_train = train\n",
    "X_dev, y_dev = dev\n",
    "len(X_train), len(X_dev), len(X_test)"
   ]
  },
  {
   "cell_type": "markdown",
   "metadata": {},
   "source": [
    "# Importar bibliotecas"
   ]
  },
  {
   "cell_type": "code",
   "execution_count": 7,
   "metadata": {},
   "outputs": [],
   "source": [
    "############### Clasificadores ######################\n",
    "from sklearn.neighbors import KNeighborsClassifier\n",
    "from sklearn.naive_bayes import MultinomialNB\n",
    "from sklearn.tree import DecisionTreeClassifier\n",
    "from sklearn.linear_model import LogisticRegression\n",
    "from sklearn.svm import LinearSVC, SVC\n",
    "from sklearn.ensemble import RandomForestClassifier\n",
    "#####################################################\n",
    "from util import print_eval\n",
    "from sklearn.feature_extraction.text import CountVectorizer\n",
    "from sklearn.pipeline import Pipeline\n",
    "from sklearn.feature_extraction.text import TfidfVectorizer\n",
    "######################################################\n",
    "from sklearn import metrics\n",
    "import pandas as pd\n",
    "from sklearn.model_selection import ParameterGrid"
   ]
  },
  {
   "cell_type": "markdown",
   "metadata": {},
   "source": [
    "# Probamos clasificadores"
   ]
  },
  {
   "cell_type": "code",
   "execution_count": 8,
   "metadata": {},
   "outputs": [],
   "source": [
    "clfs = [\n",
    "    KNeighborsClassifier(),\n",
    "    MultinomialNB(),\n",
    "    DecisionTreeClassifier(random_state=0),\n",
    "    LogisticRegression(random_state=0),\n",
    "    LinearSVC(random_state=0),\n",
    "    SVC(random_state=0),\n",
    "    RandomForestClassifier(random_state=0),\n",
    "]\n",
    "\n",
    "binary_opt = [True, False]"
   ]
  },
  {
   "cell_type": "code",
   "execution_count": 9,
   "metadata": {},
   "outputs": [
    {
     "name": "stdout",
     "output_type": "stream",
     "text": [
      "<class 'sklearn.neighbors.classification.KNeighborsClassifier'> binary = True\n",
      "accuracy\t0.69\n",
      "\n",
      "              precision    recall  f1-score   support\n",
      "\n",
      "         neg       0.66      0.80      0.72        54\n",
      "         pos       0.74      0.58      0.65        53\n",
      "\n",
      "    accuracy                           0.69       107\n",
      "   macro avg       0.70      0.69      0.69       107\n",
      "weighted avg       0.70      0.69      0.69       107\n",
      "\n",
      "[[43 11]\n",
      " [22 31]]\n",
      "<class 'sklearn.neighbors.classification.KNeighborsClassifier'> binary = False\n",
      "accuracy\t0.69\n",
      "\n",
      "              precision    recall  f1-score   support\n",
      "\n",
      "         neg       0.66      0.80      0.72        54\n",
      "         pos       0.74      0.58      0.65        53\n",
      "\n",
      "    accuracy                           0.69       107\n",
      "   macro avg       0.70      0.69      0.69       107\n",
      "weighted avg       0.70      0.69      0.69       107\n",
      "\n",
      "[[43 11]\n",
      " [22 31]]\n",
      "<class 'sklearn.naive_bayes.MultinomialNB'> binary = True\n",
      "accuracy\t0.86\n",
      "\n",
      "              precision    recall  f1-score   support\n",
      "\n",
      "         neg       0.82      0.93      0.87        54\n",
      "         pos       0.91      0.79      0.85        53\n",
      "\n",
      "    accuracy                           0.86       107\n",
      "   macro avg       0.87      0.86      0.86       107\n",
      "weighted avg       0.87      0.86      0.86       107\n",
      "\n",
      "[[50  4]\n",
      " [11 42]]\n",
      "<class 'sklearn.naive_bayes.MultinomialNB'> binary = False\n",
      "accuracy\t0.86\n",
      "\n",
      "              precision    recall  f1-score   support\n",
      "\n",
      "         neg       0.82      0.93      0.87        54\n",
      "         pos       0.91      0.79      0.85        53\n",
      "\n",
      "    accuracy                           0.86       107\n",
      "   macro avg       0.87      0.86      0.86       107\n",
      "weighted avg       0.87      0.86      0.86       107\n",
      "\n",
      "[[50  4]\n",
      " [11 42]]\n",
      "<class 'sklearn.tree.tree.DecisionTreeClassifier'> binary = True\n",
      "accuracy\t0.69\n",
      "\n",
      "              precision    recall  f1-score   support\n",
      "\n",
      "         neg       0.69      0.70      0.70        54\n",
      "         pos       0.69      0.68      0.69        53\n",
      "\n",
      "    accuracy                           0.69       107\n",
      "   macro avg       0.69      0.69      0.69       107\n",
      "weighted avg       0.69      0.69      0.69       107\n",
      "\n",
      "[[38 16]\n",
      " [17 36]]\n",
      "<class 'sklearn.tree.tree.DecisionTreeClassifier'> binary = False\n",
      "accuracy\t0.69\n",
      "\n",
      "              precision    recall  f1-score   support\n",
      "\n",
      "         neg       0.69      0.70      0.70        54\n",
      "         pos       0.69      0.68      0.69        53\n",
      "\n",
      "    accuracy                           0.69       107\n",
      "   macro avg       0.69      0.69      0.69       107\n",
      "weighted avg       0.69      0.69      0.69       107\n",
      "\n",
      "[[38 16]\n",
      " [17 36]]\n",
      "<class 'sklearn.linear_model.logistic.LogisticRegression'> binary = True\n"
     ]
    },
    {
     "name": "stderr",
     "output_type": "stream",
     "text": [
      "/home/gabriel/.virtualenvs/pln/lib/python3.6/site-packages/sklearn/linear_model/logistic.py:432: FutureWarning: Default solver will be changed to 'lbfgs' in 0.22. Specify a solver to silence this warning.\n",
      "  FutureWarning)\n"
     ]
    },
    {
     "name": "stdout",
     "output_type": "stream",
     "text": [
      "accuracy\t0.85\n",
      "\n",
      "              precision    recall  f1-score   support\n",
      "\n",
      "         neg       0.82      0.91      0.86        54\n",
      "         pos       0.89      0.79      0.84        53\n",
      "\n",
      "    accuracy                           0.85       107\n",
      "   macro avg       0.86      0.85      0.85       107\n",
      "weighted avg       0.85      0.85      0.85       107\n",
      "\n",
      "[[49  5]\n",
      " [11 42]]\n",
      "<class 'sklearn.linear_model.logistic.LogisticRegression'> binary = False\n"
     ]
    },
    {
     "name": "stderr",
     "output_type": "stream",
     "text": [
      "/home/gabriel/.virtualenvs/pln/lib/python3.6/site-packages/sklearn/linear_model/logistic.py:432: FutureWarning: Default solver will be changed to 'lbfgs' in 0.22. Specify a solver to silence this warning.\n",
      "  FutureWarning)\n"
     ]
    },
    {
     "name": "stdout",
     "output_type": "stream",
     "text": [
      "accuracy\t0.85\n",
      "\n",
      "              precision    recall  f1-score   support\n",
      "\n",
      "         neg       0.82      0.91      0.86        54\n",
      "         pos       0.89      0.79      0.84        53\n",
      "\n",
      "    accuracy                           0.85       107\n",
      "   macro avg       0.86      0.85      0.85       107\n",
      "weighted avg       0.85      0.85      0.85       107\n",
      "\n",
      "[[49  5]\n",
      " [11 42]]\n",
      "<class 'sklearn.svm.classes.LinearSVC'> binary = True\n"
     ]
    },
    {
     "name": "stderr",
     "output_type": "stream",
     "text": [
      "/home/gabriel/.virtualenvs/pln/lib/python3.6/site-packages/sklearn/svm/base.py:929: ConvergenceWarning: Liblinear failed to converge, increase the number of iterations.\n",
      "  \"the number of iterations.\", ConvergenceWarning)\n"
     ]
    },
    {
     "name": "stdout",
     "output_type": "stream",
     "text": [
      "accuracy\t0.79\n",
      "\n",
      "              precision    recall  f1-score   support\n",
      "\n",
      "         neg       0.76      0.87      0.81        54\n",
      "         pos       0.84      0.72      0.78        53\n",
      "\n",
      "    accuracy                           0.79       107\n",
      "   macro avg       0.80      0.79      0.79       107\n",
      "weighted avg       0.80      0.79      0.79       107\n",
      "\n",
      "[[47  7]\n",
      " [15 38]]\n",
      "<class 'sklearn.svm.classes.LinearSVC'> binary = False\n"
     ]
    },
    {
     "name": "stderr",
     "output_type": "stream",
     "text": [
      "/home/gabriel/.virtualenvs/pln/lib/python3.6/site-packages/sklearn/svm/base.py:929: ConvergenceWarning: Liblinear failed to converge, increase the number of iterations.\n",
      "  \"the number of iterations.\", ConvergenceWarning)\n",
      "/home/gabriel/.virtualenvs/pln/lib/python3.6/site-packages/sklearn/svm/base.py:193: FutureWarning: The default value of gamma will change from 'auto' to 'scale' in version 0.22 to account better for unscaled features. Set gamma explicitly to 'auto' or 'scale' to avoid this warning.\n",
      "  \"avoid this warning.\", FutureWarning)\n"
     ]
    },
    {
     "name": "stdout",
     "output_type": "stream",
     "text": [
      "accuracy\t0.79\n",
      "\n",
      "              precision    recall  f1-score   support\n",
      "\n",
      "         neg       0.76      0.87      0.81        54\n",
      "         pos       0.84      0.72      0.78        53\n",
      "\n",
      "    accuracy                           0.79       107\n",
      "   macro avg       0.80      0.79      0.79       107\n",
      "weighted avg       0.80      0.79      0.79       107\n",
      "\n",
      "[[47  7]\n",
      " [15 38]]\n",
      "<class 'sklearn.svm.classes.SVC'> binary = True\n",
      "accuracy\t0.60\n",
      "\n",
      "              precision    recall  f1-score   support\n",
      "\n",
      "         neg       0.57      0.85      0.68        54\n",
      "         pos       0.69      0.34      0.46        53\n",
      "\n",
      "    accuracy                           0.60       107\n",
      "   macro avg       0.63      0.60      0.57       107\n",
      "weighted avg       0.63      0.60      0.57       107\n",
      "\n",
      "[[46  8]\n",
      " [35 18]]\n",
      "<class 'sklearn.svm.classes.SVC'> binary = False\n"
     ]
    },
    {
     "name": "stderr",
     "output_type": "stream",
     "text": [
      "/home/gabriel/.virtualenvs/pln/lib/python3.6/site-packages/sklearn/svm/base.py:193: FutureWarning: The default value of gamma will change from 'auto' to 'scale' in version 0.22 to account better for unscaled features. Set gamma explicitly to 'auto' or 'scale' to avoid this warning.\n",
      "  \"avoid this warning.\", FutureWarning)\n"
     ]
    },
    {
     "name": "stdout",
     "output_type": "stream",
     "text": [
      "accuracy\t0.60\n",
      "\n",
      "              precision    recall  f1-score   support\n",
      "\n",
      "         neg       0.57      0.85      0.68        54\n",
      "         pos       0.69      0.34      0.46        53\n",
      "\n",
      "    accuracy                           0.60       107\n",
      "   macro avg       0.63      0.60      0.57       107\n",
      "weighted avg       0.63      0.60      0.57       107\n",
      "\n",
      "[[46  8]\n",
      " [35 18]]\n",
      "<class 'sklearn.ensemble.forest.RandomForestClassifier'> binary = True\n"
     ]
    },
    {
     "name": "stderr",
     "output_type": "stream",
     "text": [
      "/home/gabriel/.virtualenvs/pln/lib/python3.6/site-packages/sklearn/ensemble/forest.py:245: FutureWarning: The default value of n_estimators will change from 10 in version 0.20 to 100 in 0.22.\n",
      "  \"10 in version 0.20 to 100 in 0.22.\", FutureWarning)\n"
     ]
    },
    {
     "name": "stdout",
     "output_type": "stream",
     "text": [
      "accuracy\t0.69\n",
      "\n",
      "              precision    recall  f1-score   support\n",
      "\n",
      "         neg       0.67      0.78      0.72        54\n",
      "         pos       0.73      0.60      0.66        53\n",
      "\n",
      "    accuracy                           0.69       107\n",
      "   macro avg       0.70      0.69      0.69       107\n",
      "weighted avg       0.70      0.69      0.69       107\n",
      "\n",
      "[[42 12]\n",
      " [21 32]]\n",
      "<class 'sklearn.ensemble.forest.RandomForestClassifier'> binary = False\n",
      "accuracy\t0.69\n",
      "\n",
      "              precision    recall  f1-score   support\n",
      "\n",
      "         neg       0.67      0.78      0.72        54\n",
      "         pos       0.73      0.60      0.66        53\n",
      "\n",
      "    accuracy                           0.69       107\n",
      "   macro avg       0.70      0.69      0.69       107\n",
      "weighted avg       0.70      0.69      0.69       107\n",
      "\n",
      "[[42 12]\n",
      " [21 32]]\n"
     ]
    }
   ],
   "source": [
    "vect = CountVectorizer(binary=False)\n",
    "\n",
    "for clf in clfs:\n",
    "    for b in binary_opt:\n",
    "        print(str(clf.__class__) + ' ' + 'binary = ' + str(b))\n",
    "        pipeline = Pipeline([('vect', vect), ('clf', clf),])\n",
    "        pipeline.fit(X_train, y_train)\n",
    "        #print_eval(pipeline, X_train, y_train)\n",
    "        print_eval(pipeline, X_dev, y_dev)"
   ]
  },
  {
   "cell_type": "markdown",
   "metadata": {},
   "source": [
    "**Hasta acá la mejor combinación es LR con binary=true es la mejor combinación (otras de igual accuracy no rindieron en Kaggle)**"
   ]
  },
  {
   "cell_type": "markdown",
   "metadata": {},
   "source": [
    "# Entrenar"
   ]
  },
  {
   "cell_type": "code",
   "execution_count": 15,
   "metadata": {},
   "outputs": [],
   "source": [
    "from sklearn.feature_extraction.text import CountVectorizer\n",
    "from sklearn.pipeline import Pipeline\n",
    "\n",
    "model = Pipeline([\n",
    "    ('vect', CountVectorizer(binary=True)),\n",
    "    ('clf', LogisticRegression(random_state=0)),\n",
    "])"
   ]
  },
  {
   "cell_type": "code",
   "execution_count": 16,
   "metadata": {},
   "outputs": [
    {
     "name": "stderr",
     "output_type": "stream",
     "text": [
      "/home/gabriel/.virtualenvs/pln/lib/python3.6/site-packages/sklearn/linear_model/logistic.py:432: FutureWarning: Default solver will be changed to 'lbfgs' in 0.22. Specify a solver to silence this warning.\n",
      "  FutureWarning)\n"
     ]
    }
   ],
   "source": [
    "model.fit(X_train, y_train);"
   ]
  },
  {
   "cell_type": "code",
   "execution_count": 17,
   "metadata": {},
   "outputs": [
    {
     "name": "stdout",
     "output_type": "stream",
     "text": [
      "accuracy\t0.87\n",
      "\n",
      "              precision    recall  f1-score   support\n",
      "\n",
      "         neg       0.86      0.89      0.87        54\n",
      "         pos       0.88      0.85      0.87        53\n",
      "\n",
      "    accuracy                           0.87       107\n",
      "   macro avg       0.87      0.87      0.87       107\n",
      "weighted avg       0.87      0.87      0.87       107\n",
      "\n",
      "[[48  6]\n",
      " [ 8 45]]\n"
     ]
    }
   ],
   "source": [
    "from util import print_eval\n",
    "print_eval(model, X_dev, y_dev)"
   ]
  },
  {
   "cell_type": "markdown",
   "metadata": {},
   "source": [
    "## 3. Testear y Generar Submission"
   ]
  },
  {
   "cell_type": "code",
   "execution_count": 18,
   "metadata": {},
   "outputs": [],
   "source": [
    "y_pred = model.predict(X_test)"
   ]
  },
  {
   "cell_type": "code",
   "execution_count": 19,
   "metadata": {},
   "outputs": [],
   "source": [
    "save_results('binary_lr_gfb.csv', y_pred)"
   ]
  }
 ],
 "metadata": {
  "kernelspec": {
   "display_name": "Python 3",
   "language": "python",
   "name": "python3"
  },
  "language_info": {
   "codemirror_mode": {
    "name": "ipython",
    "version": 3
   },
   "file_extension": ".py",
   "mimetype": "text/x-python",
   "name": "python",
   "nbconvert_exporter": "python",
   "pygments_lexer": "ipython3",
   "version": "3.6.8"
  }
 },
 "nbformat": 4,
 "nbformat_minor": 2
}

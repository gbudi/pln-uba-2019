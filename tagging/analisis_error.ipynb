{
 "cells": [
  {
   "cell_type": "markdown",
   "metadata": {},
   "source": [
    "# Evaluamos el clasificador\n",
    "\n",
    "Los mejores resultados se obtuvieron usando el clasificador LinearSVC, por lo que se hará análisis de error sobre esa variante."
   ]
  },
  {
   "cell_type": "code",
   "execution_count": 2,
   "metadata": {},
   "outputs": [
    {
     "name": "stdout",
     "output_type": "stream",
     "text": [
      "\n",
      "Accuracy: 94.11% / 97.57% / 62.76% (total / known / unk)\n",
      "\n",
      "g \\ m\tsp000\tnc0s000\tda0000\taq0000\tfc\tnc0p000\trg\tnp00000\tfp\tcc\n",
      "sp000\t14.30\t0.00\t-\t0.03\t-\t-\t0.00\t-\t-\t-\t\n",
      "nc0s000\t0.00\t12.09\t0.01\t0.33\t-\t0.02\t0.02\t0.08\t-\t0.00\t\n",
      "da0000\t-\t0.08\t9.53\t-\t-\t0.00\t-\t0.00\t-\t-\t\n",
      "aq0000\t0.00\t0.34\t-\t6.61\t-\t0.15\t0.01\t0.05\t-\t-\t\n",
      "fc\t-\t-\t-\t-\t5.85\t-\t-\t-\t-\t-\t\n",
      "nc0p000\t-\t0.25\t-\t0.31\t-\t4.90\t-\t0.04\t-\t-\t\n",
      "rg\t0.02\t0.02\t0.00\t0.21\t-\t0.01\t3.35\t0.01\t-\t0.02\t\n",
      "np00000\t0.00\t0.21\t-\t0.08\t-\t0.01\t-\t3.26\t-\t0.00\t\n",
      "fp\t-\t-\t-\t-\t-\t-\t-\t-\t3.55\t-\t\n",
      "cc\t0.00\t-\t-\t0.01\t-\t-\t0.05\t0.00\t-\t3.34\t\n"
     ]
    }
   ],
   "source": [
    "%run scripts/eval.py -c ../ancora-3.0.1es -i ../class_svm -m"
   ]
  },
  {
   "cell_type": "markdown",
   "metadata": {},
   "source": [
    "Los resultados parecen ser bastante buenos, fuera de la diagonal no tenemos algún valor considerablemente alto. "
   ]
  },
  {
   "cell_type": "markdown",
   "metadata": {},
   "source": [
    "# 1er cambio:\n",
    "\n",
    "Uno de los errores más altos que tenemos (por encima del 0.2) es que el modelo confunde nombres comunes plurales como singulares. Un feature simple de agregar sería ver si una palabra termina o no en 's'. Agrego dicho feature tanto para la palabra actual, como para la siguiete y la anterior y vuelvo a evaluar."
   ]
  },
  {
   "cell_type": "code",
   "execution_count": 4,
   "metadata": {},
   "outputs": [
    {
     "name": "stdout",
     "output_type": "stream",
     "text": [
      "\n",
      "Accuracy: 94.49% / 97.59% / 66.42% (total / known / unk)\n",
      "\n",
      "g \\ m\tsp000\tnc0s000\tda0000\taq0000\tfc\tnc0p000\trg\tnp00000\tfp\tcc\n",
      "sp000\t14.30\t0.01\t-\t0.02\t-\t0.00\t0.00\t-\t-\t-\t\n",
      "nc0s000\t0.00\t12.14\t0.01\t0.29\t-\t0.01\t0.02\t0.08\t-\t0.00\t\n",
      "da0000\t-\t0.07\t9.53\t0.00\t-\t0.00\t-\t0.01\t-\t-\t\n",
      "aq0000\t0.00\t0.35\t-\t6.50\t-\t0.27\t0.01\t0.05\t-\t-\t\n",
      "fc\t-\t-\t-\t-\t5.85\t-\t-\t-\t-\t-\t\n",
      "nc0p000\t-\t0.01\t-\t0.18\t-\t5.30\t-\t0.02\t-\t-\t\n",
      "rg\t0.02\t0.03\t0.00\t0.18\t-\t0.02\t3.35\t0.01\t-\t0.02\t\n",
      "np00000\t0.00\t0.20\t-\t0.06\t-\t0.02\t-\t3.28\t-\t0.00\t\n",
      "fp\t-\t-\t-\t-\t-\t-\t-\t-\t3.55\t-\t\n",
      "cc\t0.00\t0.00\t-\t0.00\t-\t0.01\t0.05\t0.00\t-\t3.34\t\n"
     ]
    }
   ],
   "source": [
    "%run scripts/eval.py -c ../ancora-3.0.1es -i ../class_svm_1 -m"
   ]
  },
  {
   "cell_type": "markdown",
   "metadata": {},
   "source": [
    "Mejoró el accuracy ~4% sobre palabras desconocidas y en ese error en particular se pasó de 0.25 a 0.01. El accuracy total y sobre palabras conocidas no se vió afectado (de hecho, subió levemente). **Debido a esto, conservo el cambio para el resto del análisis.**"
   ]
  },
  {
   "cell_type": "markdown",
   "metadata": {},
   "source": [
    "Otro error es confundir nombres propios por nombres comunes."
   ]
  },
  {
   "cell_type": "code",
   "execution_count": 5,
   "metadata": {},
   "outputs": [
    {
     "data": {
      "text/plain": [
       "[4, 6, 9, 12, 29, 36, 37, 47, 61, 68]"
      ]
     },
     "execution_count": 5,
     "metadata": {},
     "output_type": "execute_result"
    }
   ],
   "source": [
    "sorted(error_sents['np00000']['nc0s000'])[:10]"
   ]
  },
  {
   "cell_type": "code",
   "execution_count": 39,
   "metadata": {},
   "outputs": [
    {
     "data": {
      "text/plain": [
       "['Anna_Birulés', 'Investigación_y_Desarrollo', 'Gobierno']"
      ]
     },
     "execution_count": 39,
     "metadata": {},
     "output_type": "execute_result"
    }
   ],
   "source": [
    "sent_numb = 68\n",
    "sent = sents[sent_numb]\n",
    "words, tags = zip(*sent)  # separar las palabras de los tags\n",
    "wrong_tags = [word[0] for word in sent if word[1] == 'np00000']\n",
    "wrong_tags"
   ]
  },
  {
   "cell_type": "code",
   "execution_count": 37,
   "metadata": {},
   "outputs": [
    {
     "data": {
      "text/plain": [
       "array(['np00000', 'aq0000', 'np00000'], dtype='<U8')"
      ]
     },
     "execution_count": 37,
     "metadata": {},
     "output_type": "execute_result"
    }
   ],
   "source": [
    "model.tag(wrong_tags)"
   ]
  },
  {
   "cell_type": "markdown",
   "metadata": {},
   "source": [
    "# 2do cambio:\n",
    "\n",
    "Luego de los nombres que se etiquetan mal, parecen coincider en que contienen algún guión bajo. Agrego como feature ver si hay algún guión bajo en la palabra, tanto para la actual como la siguiente y anterior. Además, agrego lo mismo para para guión medio. Volvemos a evaluar por separado y en combinación."
   ]
  },
  {
   "cell_type": "markdown",
   "metadata": {},
   "source": [
    "Guión medio:"
   ]
  },
  {
   "cell_type": "code",
   "execution_count": 45,
   "metadata": {},
   "outputs": [
    {
     "name": "stdout",
     "output_type": "stream",
     "text": [
      "\n",
      "Accuracy: 94.49% / 97.59% / 66.41% (total / known / unk)\n",
      "\n",
      "g \\ m\tsp000\tnc0s000\tda0000\taq0000\tfc\tnc0p000\trg\tnp00000\tfp\tcc\n",
      "sp000\t14.30\t0.01\t-\t0.02\t-\t0.00\t0.00\t-\t-\t-\t\n",
      "nc0s000\t0.00\t12.14\t0.01\t0.30\t-\t0.01\t0.02\t0.07\t-\t0.00\t\n",
      "da0000\t-\t0.07\t9.53\t0.00\t-\t0.00\t-\t0.01\t-\t-\t\n",
      "aq0000\t0.00\t0.35\t-\t6.50\t-\t0.27\t0.01\t0.05\t-\t-\t\n",
      "fc\t-\t-\t-\t-\t5.85\t-\t-\t-\t-\t-\t\n",
      "nc0p000\t-\t0.01\t-\t0.18\t-\t5.30\t-\t0.02\t-\t-\t\n",
      "rg\t0.02\t0.03\t0.00\t0.18\t-\t0.02\t3.35\t0.00\t-\t0.02\t\n",
      "np00000\t0.00\t0.20\t-\t0.06\t-\t0.02\t-\t3.28\t-\t0.00\t\n",
      "fp\t-\t-\t-\t-\t-\t-\t-\t-\t3.55\t-\t\n",
      "cc\t0.00\t0.00\t-\t0.00\t-\t0.01\t0.05\t0.00\t-\t3.34\t\n"
     ]
    }
   ],
   "source": [
    "%run scripts/eval.py -c ../ancora-3.0.1es -i ../class_svm_2_1 -m"
   ]
  },
  {
   "cell_type": "markdown",
   "metadata": {},
   "source": [
    "Guión bajo:"
   ]
  },
  {
   "cell_type": "code",
   "execution_count": 44,
   "metadata": {},
   "outputs": [
    {
     "name": "stdout",
     "output_type": "stream",
     "text": [
      "\n",
      "Accuracy: 94.18% / 97.28% / 66.08% (total / known / unk)\n",
      "\n",
      "g \\ m\tsp000\tnc0s000\tda0000\taq0000\tfc\tnc0p000\trg\tnp00000\tfp\tcc\n",
      "sp000\t14.22\t0.04\t-\t0.07\t-\t0.00\t0.00\t-\t-\t-\t\n",
      "nc0s000\t0.00\t12.20\t0.01\t0.27\t-\t0.01\t0.02\t0.05\t-\t0.00\t\n",
      "da0000\t-\t0.12\t9.48\t-\t-\t0.01\t-\t0.00\t-\t-\t\n",
      "aq0000\t0.00\t0.39\t-\t6.49\t-\t0.27\t0.01\t0.03\t-\t-\t\n",
      "fc\t-\t-\t-\t-\t5.85\t-\t-\t-\t-\t-\t\n",
      "nc0p000\t-\t0.01\t-\t0.19\t-\t5.30\t-\t0.01\t-\t-\t\n",
      "rg\t0.02\t0.06\t0.00\t0.21\t-\t0.03\t3.29\t0.00\t-\t0.02\t\n",
      "np00000\t-\t0.26\t-\t0.06\t-\t0.05\t-\t3.19\t-\t0.00\t\n",
      "fp\t-\t-\t-\t-\t-\t-\t-\t-\t3.55\t-\t\n",
      "cc\t-\t0.01\t-\t0.00\t-\t0.01\t0.05\t0.00\t-\t3.34\t\n"
     ]
    }
   ],
   "source": [
    "%run scripts/eval.py -c ../ancora-3.0.1es -i ../class_svm_2_2 -m"
   ]
  },
  {
   "cell_type": "markdown",
   "metadata": {},
   "source": [
    "Guión medio y guión bajo:"
   ]
  },
  {
   "cell_type": "code",
   "execution_count": 43,
   "metadata": {},
   "outputs": [
    {
     "name": "stdout",
     "output_type": "stream",
     "text": [
      "\n",
      "Accuracy: 94.18% / 97.28% / 66.08% (total / known / unk)\n",
      "\n",
      "g \\ m\tsp000\tnc0s000\tda0000\taq0000\tfc\tnc0p000\trg\tnp00000\tfp\tcc\n",
      "sp000\t14.22\t0.04\t-\t0.07\t-\t0.00\t0.00\t-\t-\t-\t\n",
      "nc0s000\t0.00\t12.20\t0.01\t0.27\t-\t0.01\t0.02\t0.05\t-\t0.00\t\n",
      "da0000\t-\t0.12\t9.48\t-\t-\t0.01\t-\t0.00\t-\t-\t\n",
      "aq0000\t0.00\t0.39\t-\t6.49\t-\t0.27\t0.01\t0.03\t-\t-\t\n",
      "fc\t-\t-\t-\t-\t5.85\t-\t-\t-\t-\t-\t\n",
      "nc0p000\t-\t0.01\t-\t0.19\t-\t5.30\t-\t0.01\t-\t-\t\n",
      "rg\t0.02\t0.06\t0.00\t0.21\t-\t0.03\t3.29\t0.00\t-\t0.02\t\n",
      "np00000\t-\t0.26\t-\t0.06\t-\t0.05\t-\t3.19\t-\t0.00\t\n",
      "fp\t-\t-\t-\t-\t-\t-\t-\t-\t3.55\t-\t\n",
      "cc\t-\t0.01\t-\t0.00\t-\t0.01\t0.05\t0.00\t-\t3.34\t\n"
     ]
    }
   ],
   "source": [
    "%run scripts/eval.py -c ../ancora-3.0.1es -i ../class_svm_2_3 -m"
   ]
  },
  {
   "cell_type": "markdown",
   "metadata": {},
   "source": [
    "Ninguna combinación mejoró el rendimiento del modelo. De hecho, dos de ellas lo redujeron. **Debido a esto, no se conservan los cambios**"
   ]
  }
 ],
 "metadata": {
  "kernelspec": {
   "display_name": "Python 3",
   "language": "python",
   "name": "python3"
  },
  "language_info": {
   "codemirror_mode": {
    "name": "ipython",
    "version": 3
   },
   "file_extension": ".py",
   "mimetype": "text/x-python",
   "name": "python",
   "nbconvert_exporter": "python",
   "pygments_lexer": "ipython3",
   "version": "3.6.8"
  }
 },
 "nbformat": 4,
 "nbformat_minor": 2
}
